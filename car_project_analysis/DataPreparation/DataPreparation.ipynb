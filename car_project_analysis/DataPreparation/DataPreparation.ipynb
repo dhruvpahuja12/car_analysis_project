{
 "cells": [
  {
   "cell_type": "markdown",
   "metadata": {},
   "source": [
    "# Data Wrangling, Cleaning of Data, Exploration of Data to make it consistent for Analysis"
   ]
  },
  {
   "cell_type": "code",
   "execution_count": 1,
   "metadata": {
    "collapsed": true
   },
   "outputs": [],
   "source": [
    "%matplotlib inline"
   ]
  },
  {
   "cell_type": "code",
   "execution_count": 2,
   "metadata": {
    "collapsed": true
   },
   "outputs": [],
   "source": [
    "# importing required libraries\n",
    "\n",
    "import stat\n",
    "import numpy as np\n",
    "import pandas as pd\n",
    "import seaborn as sns\n",
    "import matplotlib.pyplot as plt\n",
    "from datetime import datetime\n",
    "sns.set(style=\"white\")"
   ]
  },
  {
   "cell_type": "code",
   "execution_count": 19,
   "metadata": {},
   "outputs": [],
   "source": [
    "# getting absolute path till the raw data file\n",
    "abs_path = os.getcwd()[:-15]\n",
    "raw_data_path = r\"D:\\car_project_analysis\\RawData\\autos.csv\"\n",
    "\n",
    "# reading csv into raw dataframe\n",
    "df = pd.read_csv(raw_data_path,encoding=\"latin-1\")"
   ]
  },
  {
   "cell_type": "code",
   "execution_count": 4,
   "metadata": {},
   "outputs": [
    {
     "data": {
      "text/plain": [
       "37869"
      ]
     },
     "execution_count": 4,
     "metadata": {},
     "output_type": "execute_result"
    }
   ],
   "source": [
    "# checking the column vehicleType for null values \n",
    "df[\"vehicleType\"].isnull().values.sum()"
   ]
  },
  {
   "cell_type": "code",
   "execution_count": 5,
   "metadata": {
    "collapsed": true
   },
   "outputs": [],
   "source": [
    "# changing the vehicleType from NaN to Others\n",
    "df[\"vehicleType\"].fillna(\"Other\", inplace=True)"
   ]
  },
  {
   "cell_type": "code",
   "execution_count": 6,
   "metadata": {},
   "outputs": [
    {
     "data": {
      "text/plain": [
       "False    371528\n",
       "Name: brand, dtype: int64"
      ]
     },
     "execution_count": 6,
     "metadata": {},
     "output_type": "execute_result"
    }
   ],
   "source": [
    "# checking if there are any null values in the column brand\n",
    "df[\"brand\"].isnull().value_counts()"
   ]
  },
  {
   "cell_type": "code",
   "execution_count": 7,
   "metadata": {},
   "outputs": [
    {
     "data": {
      "text/plain": [
       "False    371528\n",
       "Name: seller, dtype: int64"
      ]
     },
     "execution_count": 7,
     "metadata": {},
     "output_type": "execute_result"
    }
   ],
   "source": [
    "# checking if there are any null values in the column seller\n",
    "df[\"seller\"].isnull().value_counts()"
   ]
  },
  {
   "cell_type": "code",
   "execution_count": 8,
   "metadata": {},
   "outputs": [
    {
     "data": {
      "text/plain": [
       "False    371528\n",
       "Name: offerType, dtype: int64"
      ]
     },
     "execution_count": 8,
     "metadata": {},
     "output_type": "execute_result"
    }
   ],
   "source": [
    "# checking if there are any null values in the offerType \n",
    "df[\"offerType\"].isnull().value_counts()"
   ]
  },
  {
   "cell_type": "code",
   "execution_count": 9,
   "metadata": {},
   "outputs": [
    {
     "data": {
      "text/plain": [
       "array(['Angebot', 'Gesuch'], dtype=object)"
      ]
     },
     "execution_count": 9,
     "metadata": {},
     "output_type": "execute_result"
    }
   ],
   "source": [
    "# checking the different types of values in the column offerType\n",
    "df[\"offerType\"].unique()"
   ]
  },
  {
   "cell_type": "code",
   "execution_count": 10,
   "metadata": {
    "collapsed": true
   },
   "outputs": [],
   "source": [
    "# changing values of offerType Gesuch to Request and Angebot to Offer\n",
    "df[\"offerType\"] = df[\"offerType\"].map({'Gesuch':\"Request\",'Angebot':'Offer'})"
   ]
  },
  {
   "cell_type": "code",
   "execution_count": 11,
   "metadata": {},
   "outputs": [
    {
     "data": {
      "text/plain": [
       "False    371528\n",
       "Name: yearOfRegistration, dtype: int64"
      ]
     },
     "execution_count": 11,
     "metadata": {},
     "output_type": "execute_result"
    }
   ],
   "source": [
    "# checking if there are any null values in the yearOfRegistration\n",
    "df[\"yearOfRegistration\"].isnull().value_counts()"
   ]
  },
  {
   "cell_type": "code",
   "execution_count": 14,
   "metadata": {
    "collapsed": true
   },
   "outputs": [],
   "source": [
    "# dropping rows that are inconsistent with the dataset based on year of registration\n",
    "df = df[(df[\"yearOfRegistration\"] >= 1890) & (df[\"yearOfRegistration\"] <= 2016)]"
   ]
  },
  {
   "cell_type": "code",
   "execution_count": 17,
   "metadata": {},
   "outputs": [
    {
     "data": {
      "image/png": "[encoded data removed]",
      "text/plain": [
       "<matplotlib.figure.Figure at 0x115f690b8>"
      ]
     },
     "metadata": {},
     "output_type": "display_data"
    }
   ],
   "source": [
    "# Boxplot to see the distribution after outliers has been removed\n",
    "fig, ax = plt.subplots(figsize=(8,6))\n",
    "sns.boxplot(x=\"vehicleType\", y=\"price\", data=df)\n",
    "ax.text(4,1.2*(10**9),\"Many Outliers as Boxplot has been suppressed\",fontsize=18,color=\"r\",ha=\"center\", va=\"center\")\n",
    "plt.show()"
   ]
  },
  {
   "cell_type": "code",
   "execution_count": 209,
   "metadata": {},
   "outputs": [
    {
     "data": {
      "text/plain": [
       "vehicleType\n",
       "Other          3708.000\n",
       "andere         8429.500\n",
       "bus           13948.500\n",
       "cabrio        21400.000\n",
       "coupe         24300.000\n",
       "kleinwagen     5775.000\n",
       "kombi         13076.875\n",
       "limousine     12801.500\n",
       "suv           28800.000\n",
       "Name: price, dtype: float64"
      ]
     },
     "execution_count": 209,
     "metadata": {},
     "output_type": "execute_result"
    }
   ],
   "source": [
    "# Mean of the prices of all the vehicle types\n",
    "_median = df.groupby(\"vehicleType\")[\"price\"].median()\n",
    "\n",
    "# 75th percentile of the prices of all the vehicles types\n",
    "_quantile75 = df.groupby(\"vehicleType\")[\"price\"].quantile(0.75)\n",
    "\n",
    "# 25th percentile of the prices of all the vehicles types\n",
    "_quantile25 = df.groupby(\"vehicleType\")[\"price\"].quantile(0.25)\n",
    "\n",
    "# Calculating the value of the prices of each vehicle type above which all the values are outliers\n",
    "iqr = (_quantile75 - _quantile25)*1.5 + _median\n",
    "iqr"
   ]
  },
  {
   "cell_type": "code",
   "execution_count": 212,
   "metadata": {},
   "outputs": [],
   "source": [
    "# Removing the outliers as per the logic above\n",
    "df = df[((df[\"vehicleType\"] == \"andere\") & (df[\"price\"] <= 8429)) |\n",
    "        ((df[\"vehicleType\"] == \"Other\") & (df[\"price\"] <= 3708)) |\n",
    "        ((df[\"vehicleType\"] == \"suv\") & (df[\"price\"] <= 28800)) |\n",
    "        ((df[\"vehicleType\"] == \"kombi\") & (df[\"price\"] <= 13076)) |\n",
    "        ((df[\"vehicleType\"] == \"bus\") & (df[\"price\"] <= 13948)) |\n",
    "        ((df[\"vehicleType\"] == \"cabrio\") & (df[\"price\"] <= 21400)) |\n",
    "        ((df[\"vehicleType\"] == \"limousine\") & (df[\"price\"] <= 12801)) |\n",
    "        ((df[\"vehicleType\"] == \"coupe\") & (df[\"price\"] <= 24300)) |\n",
    "        ((df[\"vehicleType\"] == \"kleinwagen\") & (df[\"price\"] <= 5775))]"
   ]
  },
  {
   "cell_type": "code",
   "execution_count": 215,
   "metadata": {
    "collapsed": true
   },
   "outputs": [],
   "source": [
    "# checking if the gearbox column has null values\n",
    "df[\"gearbox\"].isnull().value_counts()\n",
    "\n",
    "# setting the NaN gearbox types to Unspecified\n",
    "df[\"gearbox\"].fillna(\"Unspecified\", inplace=True)"
   ]
  },
  {
   "cell_type": "code",
   "execution_count": 217,
   "metadata": {},
   "outputs": [
    {
     "data": {
      "text/plain": [
       "False    288358\n",
       "True      25329\n",
       "Name: fuelType, dtype: int64"
      ]
     },
     "execution_count": 217,
     "metadata": {},
     "output_type": "execute_result"
    }
   ],
   "source": [
    "# checking if the fuelType has null values\n",
    "df[\"fuelType\"].isnull().value_counts()"
   ]
  },
  {
   "cell_type": "code",
   "execution_count": 218,
   "metadata": {
    "collapsed": true
   },
   "outputs": [],
   "source": [
    "# setting the NaN fuelType types to other\n",
    "df[\"fuelType\"].fillna(\"other\",inplace=True)"
   ]
  },
  {
   "cell_type": "code",
   "execution_count": 219,
   "metadata": {},
   "outputs": [
    {
     "data": {
      "text/plain": [
       "array(['benzin', 'diesel', 'other', 'lpg', 'andere', 'hybrid', 'cng',\n",
       "       'elektro'], dtype=object)"
      ]
     },
     "execution_count": 219,
     "metadata": {},
     "output_type": "execute_result"
    }
   ],
   "source": [
    "# checking how many unique types of fuelTypes are present\n",
    "df[\"fuelType\"].unique()"
   ]
  },
  {
   "cell_type": "code",
   "execution_count": 220,
   "metadata": {
    "collapsed": true
   },
   "outputs": [],
   "source": [
    "# Changing german names to english readable format\n",
    "df[\"fuelType\"] = df[\"fuelType\"].map({'benzin':'Gasoline','diesel':'Diesel','other':'Other','lpg':'Lpg','hybrid':'Hybrid','cng':'Cng','elektro':'Electric'})"
   ]
  },
  {
   "cell_type": "code",
   "execution_count": 221,
   "metadata": {
    "collapsed": true
   },
   "outputs": [],
   "source": [
    "# deleting the column noOfPictures since all of them are Zero\n",
    "del df[\"nrOfPictures\"]"
   ]
  },
  {
   "cell_type": "code",
   "execution_count": 225,
   "metadata": {
    "collapsed": true
   },
   "outputs": [],
   "source": [
    "# splitting dateCreated by year\n",
    "df[\"yearOfCreation\"] = df['dateCreated'].apply(lambda x: datetime.strptime(x,'%Y-%m-%d %H:%M:%S').date().strftime('%Y'))\n",
    "\n",
    "# splitting dateCrawled by year\n",
    "df[\"yearCrawled\"] = df['dateCrawled'].apply(lambda x: datetime.strptime(x,'%Y-%m-%d %H:%M:%S').date().strftime('%Y'))\n",
    "\n",
    "# splitting dateCreated by month\n",
    "df[\"monthOfCreation\"] = df['dateCreated'].apply(lambda x: datetime.strptime(x,'%Y-%m-%d %H:%M:%S').date().strftime('%B'))\n",
    "\n",
    "# splitting dateCrawled by month\n",
    "df[\"monthCrawled\"] = df['dateCrawled'].apply(lambda x: datetime.strptime(x,'%Y-%m-%d %H:%M:%S').date().strftime('%B'))\n",
    "\n",
    "# no of days seen online\n",
    "from_date = df['dateCreated'].apply(lambda x: datetime.strptime(x,'%Y-%m-%d %H:%M:%S').date())\n",
    "to_date = df['lastSeen'].apply(lambda x: datetime.strptime(x,'%Y-%m-%d %H:%M:%S').date())\n",
    "no_days = abs((to_date-from_date))\n",
    "no_days = (no_days / np.timedelta64(1, 'D')).astype(int)\n",
    "df[\"NoOfDaysOnline\"] = no_days\n",
    "\n",
    "# no of hrs seen online\n",
    "hrs_from = df['dateCreated'].apply(lambda x: datetime.strptime(x,'%Y-%m-%d %H:%M:%S').time().strftime('%H'))\n",
    "hrs_to = df['lastSeen'].apply(lambda x: datetime.strptime(x,'%Y-%m-%d %H:%M:%S').time().strftime('%H'))\n",
    "total_hrs = (hrs_to.astype(int) - hrs_from.astype(int))\n",
    "df[\"NoOfHrsOnline\"] = total_hrs"
   ]
  },
  {
   "cell_type": "code",
   "execution_count": 228,
   "metadata": {},
   "outputs": [
    {
     "data": {
      "text/plain": [
       "False    313687\n",
       "Name: powerPS, dtype: int64"
      ]
     },
     "execution_count": 228,
     "metadata": {},
     "output_type": "execute_result"
    }
   ],
   "source": [
    "# checking for null values in powerPS column\n",
    "df[\"powerPS\"].isnull().value_counts()"
   ]
  },
  {
   "cell_type": "code",
   "execution_count": 231,
   "metadata": {},
   "outputs": [
    {
     "data": {
      "text/plain": [
       "array(['other', 'ja', 'nein'], dtype=object)"
      ]
     },
     "execution_count": 231,
     "metadata": {},
     "output_type": "execute_result"
    }
   ],
   "source": [
    "# checking for unique values in notRepairedDamage\n",
    "df[\"notRepairedDamage\"].unique()"
   ]
  },
  {
   "cell_type": "code",
   "execution_count": 230,
   "metadata": {
    "collapsed": true
   },
   "outputs": [],
   "source": [
    "# setting nan in notRepairedDamage to other\n",
    "df[\"notRepairedDamage\"].fillna(\"other\",inplace=True)"
   ]
  },
  {
   "cell_type": "code",
   "execution_count": 232,
   "metadata": {
    "collapsed": true
   },
   "outputs": [],
   "source": [
    "# Changing german names to english readable format\n",
    "df[\"notRepairedDamage\"] = df[\"notRepairedDamage\"].map({'other':'Other','ja':'Yes','nein':'No'})"
   ]
  },
  {
   "cell_type": "code",
   "execution_count": 238,
   "metadata": {},
   "outputs": [
    {
     "data": {
      "text/plain": [
       "False    297078\n",
       "True      16609\n",
       "Name: model, dtype: int64"
      ]
     },
     "execution_count": 238,
     "metadata": {},
     "output_type": "execute_result"
    }
   ],
   "source": [
    "# checking for unique values in model column\n",
    "df[\"model\"].isnull().value_counts()"
   ]
  },
  {
   "cell_type": "code",
   "execution_count": 239,
   "metadata": {
    "collapsed": true
   },
   "outputs": [],
   "source": [
    "# setting nan in model column to Other\n",
    "df[\"model\"].fillna(\"Other\",inplace=True)"
   ]
  },
  {
   "cell_type": "code",
   "execution_count": 247,
   "metadata": {},
   "outputs": [
    {
     "data": {
      "text/plain": [
       "False    313687\n",
       "Name: abtest, dtype: int64"
      ]
     },
     "execution_count": 247,
     "metadata": {},
     "output_type": "execute_result"
    }
   ],
   "source": [
    "# checking for null values in abtest column\n",
    "df[\"abtest\"].isnull().value_counts()"
   ]
  },
  {
   "cell_type": "code",
   "execution_count": 271,
   "metadata": {},
   "outputs": [],
   "source": [
    "# mappig the values on monthOfRegistration column from 1-12 \n",
    "df[\"monthOfRegistration\"].replace([0,12],[1,11],inplace=True)"
   ]
  },
  {
   "cell_type": "code",
   "execution_count": 274,
   "metadata": {},
   "outputs": [],
   "source": [
    "# calculating no of years the vehicle is old\n",
    "df[\"yearsOld\"] = 2016 - df[\"yearOfRegistration\"]\n",
    "\n",
    "# calculating no of months the vehicle is old\n",
    "df[\"monthsOld\"] = 12 - df[\"monthOfRegistration\"]\n"
   ]
  },
  {
   "cell_type": "code",
   "execution_count": 276,
   "metadata": {
    "collapsed": true
   },
   "outputs": [],
   "source": [
    "# mappig the values on monthOfRegistration column from 1-12 to Jan to Dec\n",
    "months = [\"Jan\",\"Feb\",\"Mar\",\"Apr\",\"May\",\"Jun\",\"Jul\",\"Aug\",\"Sep\",\"Oct\",\"Nov\"]\n",
    "df[\"monthOfRegistration\"].replace([1,2,3,4,5,6,7,8,9,10,11],months,inplace=True)"
   ]
  },
  {
   "cell_type": "code",
   "execution_count": 281,
   "metadata": {},
   "outputs": [
    {
     "data": {
      "text/plain": [
       "False    313687\n",
       "Name: postalCode, dtype: int64"
      ]
     },
     "execution_count": 281,
     "metadata": {},
     "output_type": "execute_result"
    }
   ],
   "source": [
    "# checking if postal code values are null\n",
    "df[\"postalCode\"].isnull().value_counts()"
   ]
  },
  {
   "cell_type": "code",
   "execution_count": null,
   "metadata": {},
   "outputs": [],
   "source": []
  },
  {
   "cell_type": "code",
   "execution_count": 303,
   "metadata": {
    "collapsed": true
   },
   "outputs": [],
   "source": [
    "# saving the data file as csv to current directory location\n",
    "path_to_file  = r\"D:\\car_project_analysis\\CleanData\\CleanedDataSet\\cleaned_autos.csv\"\n",
    "df.to_csv(path_to_file,index=False)"
   ]
  },
  {
   "cell_type": "code",
   "execution_count": null,
   "metadata": {},
   "outputs": [],
   "source": []
  },
  {
   "cell_type": "code",
   "execution_count": null,
   "metadata": {
    "collapsed": true
   },
   "outputs": [],
   "source": []
  },
  {
   "cell_type": "code",
   "execution_count": null,
   "metadata": {
    "collapsed": true
   },
   "outputs": [],
   "source": []
  }
 ],
 "metadata": {
  "anaconda-cloud": {},
  "kernelspec": {
   "display_name": "Python 3 (ipykernel)",
   "language": "python",
   "name": "python3"
  },
  "language_info": {
   "codemirror_mode": {
    "name": "ipython",
    "version": 3
   },
   "file_extension": ".py",
   "mimetype": "text/x-python",
   "name": "python",
   "nbconvert_exporter": "python",
   "pygments_lexer": "ipython3",
   "version": "3.9.5"
  }
 },
 "nbformat": 4,
 "nbformat_minor": 1
}
